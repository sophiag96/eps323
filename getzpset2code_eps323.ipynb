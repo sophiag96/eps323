{
  "nbformat": 4,
  "nbformat_minor": 0,
  "metadata": {
    "colab": {
      "provenance": [],
      "authorship_tag": "ABX9TyO2v6069ttHAWyRX2Fitrrw",
      "include_colab_link": true
    },
    "kernelspec": {
      "name": "python3",
      "display_name": "Python 3"
    },
    "language_info": {
      "name": "python"
    }
  },
  "cells": [
    {
      "cell_type": "markdown",
      "metadata": {
        "id": "view-in-github",
        "colab_type": "text"
      },
      "source": [
        "<a href=\"https://colab.research.google.com/github/sophiag96/eps323/blob/main/getzpset2code_eps323.ipynb\" target=\"_parent\"><img src=\"https://colab.research.google.com/assets/colab-badge.svg\" alt=\"Open In Colab\"/></a>"
      ]
    },
    {
      "cell_type": "code",
      "execution_count": 6,
      "metadata": {
        "id": "CtMbKyGCRjke"
      },
      "outputs": [],
      "source": [
        "import numpy as np\n",
        "from math import pi\n"
      ]
    },
    {
      "cell_type": "code",
      "source": [
        "sig = 5.67*(10**(-8))\n",
        "tsun = 5778\n",
        "print(sig)\n",
        "\n",
        "tsun4 = tsun**4\n",
        "I = tsun4*sig\n",
        "print(I)\n",
        "\n",
        "Rsun = 6.96*(10**8)\n",
        "\n",
        "Powersun = I*4*pi*(Rsun**2)\n",
        "print(Powersun)\n",
        "\n",
        "au = 1.496*(10**11)\n",
        "\n",
        "SoE = Powersun/(4*pi*(au**2))\n",
        "IE = SoE/4\n",
        "print(SoE, IE)\n",
        "\n",
        "mau = au*1.524\n",
        "vau = au*0.72\n",
        "\n",
        "SoM = Powersun/(4*pi*(mau**2))\n",
        "IM = SoM/4\n",
        "print(SoM, IM)\n",
        "SoV = Powersun/(4*pi*(vau**2))\n",
        "IV = SoV/4\n",
        "print(SoV, IV)\n",
        "\n",
        "ae = 0.31\n",
        "am = 0.15\n",
        "av = 0.75"
      ],
      "metadata": {
        "colab": {
          "base_uri": "https://localhost:8080/"
        },
        "id": "VKpqjXBIRnbW",
        "outputId": "3c2ef479-c66e-48d5-95f6-3c5581d6df1d"
      },
      "execution_count": 7,
      "outputs": [
        {
          "output_type": "stream",
          "name": "stdout",
          "text": [
            "5.67e-08\n",
            "63196526.546029195\n",
            "3.846994382781468e+26\n",
            "1367.8815791898396 341.9703947974599\n",
            "588.9501911626744 147.2375477906686\n",
            "2638.6604536841037 659.6651134210259\n"
          ]
        }
      ]
    },
    {
      "cell_type": "code",
      "source": [
        "TE = (((IE)*(1-ae))/sig)**0.25\n",
        "TM = (((IM)*(1-am))/sig)**0.25\n",
        "TV = (((IV)*(1-av))/sig)**0.25\n",
        "print(TE)\n",
        "print(TM)\n",
        "print(TV)"
      ],
      "metadata": {
        "colab": {
          "base_uri": "https://localhost:8080/"
        },
        "id": "xlL-ai2rXyQI",
        "outputId": "36a47160-b121-42de-fbaf-90074ce1a411"
      },
      "execution_count": 26,
      "outputs": [
        {
          "output_type": "stream",
          "name": "stdout",
          "text": [
            "253.9882556381469\n",
            "216.75224813937257\n",
            "232.23095957018242\n"
          ]
        }
      ]
    },
    {
      "cell_type": "code",
      "source": [
        "au1 = au + (0.033*au)\n",
        "SoE1 = Powersun/(4*pi*(au1**2))\n",
        "IE1 = SoE1/4\n",
        "TE1 = (((IE1)*(1-ae))/sig)**0.25\n",
        "print(SoE1, IE1, TE1)\n",
        "deltaIE = IE1-IE\n",
        "deltaTE = TE1 - TE\n",
        "print(deltaIE, deltaTE)"
      ],
      "metadata": {
        "colab": {
          "base_uri": "https://localhost:8080/"
        },
        "id": "cUgl5FfiakAe",
        "outputId": "71531ae6-06ed-4cfb-a04f-e579d480c030"
      },
      "execution_count": 28,
      "outputs": [
        {
          "output_type": "stream",
          "name": "stdout",
          "text": [
            "1281.8814355595825 320.47035888989564 249.89839949428466\n",
            "-21.500035907564268 -4.089856143862249\n"
          ]
        }
      ]
    },
    {
      "cell_type": "code",
      "source": [
        "SoE2 = SoE-1\n",
        "IE2 = SoE2/4\n",
        "TE2 = (((IE2)*(1-ae))/sig)**0.25\n",
        "print(SoE2, IE2, TE2)\n",
        "deltaTE2 = TE2 - TE\n",
        "print(deltaTE2)\n"
      ],
      "metadata": {
        "colab": {
          "base_uri": "https://localhost:8080/"
        },
        "id": "kZUgUlepdKu2",
        "outputId": "7b333f36-8e4a-48c1-ec9c-2441db8f6c65"
      },
      "execution_count": 36,
      "outputs": [
        {
          "output_type": "stream",
          "name": "stdout",
          "text": [
            "1366.8815791898396 341.7203947974599 253.94182290610104\n",
            "-0.04643273204587217\n"
          ]
        }
      ]
    },
    {
      "cell_type": "code",
      "source": [
        "g1 = 0.49\n",
        "g2 = 0.1\n",
        "aa = 0.22\n",
        "eta = 0.19\n",
        "a = 30/168\n",
        "print(a)\n",
        "\n",
        "Ta = (((1-g1*g2)*IE*(1-0.31))/(eta*sig*(1+g2)))**0.25\n",
        "print(Ta)\n",
        "Ts = (((IE*(1-0.31))/(sig*(1-g2)))*((1-g1*g2+g1-g2)/(1+g2)))**0.25\n",
        "print(Ts)"
      ],
      "metadata": {
        "colab": {
          "base_uri": "https://localhost:8080/"
        },
        "id": "zOscE6CMeJdm",
        "outputId": "12b474a1-c74f-44e0-9c73-2c16f7aadc4d"
      },
      "execution_count": 10,
      "outputs": [
        {
          "output_type": "stream",
          "name": "stdout",
          "text": [
            "0.17857142857142858\n",
            "370.9558233353097\n",
            "274.0072356011069\n"
          ]
        }
      ]
    },
    {
      "cell_type": "code",
      "source": [
        "print(sig*(tsun**4))"
      ],
      "metadata": {
        "colab": {
          "base_uri": "https://localhost:8080/"
        },
        "id": "i6IiLjIJRxEh",
        "outputId": "79cd057e-542b-4c6d-93d3-40fd969c5f70"
      },
      "execution_count": 10,
      "outputs": [
        {
          "output_type": "stream",
          "name": "stdout",
          "text": [
            "63196526.546029195\n"
          ]
        }
      ]
    }
  ]
}